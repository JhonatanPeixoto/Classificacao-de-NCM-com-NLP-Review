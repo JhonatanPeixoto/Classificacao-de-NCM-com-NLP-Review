{
 "cells": [
  {
   "cell_type": "markdown",
   "id": "96ab7d27",
   "metadata": {},
   "source": [
    "## Resumo\n",
    "\n",
    "Nessa etapa, vamos visualizar os dados e identificar padroes para posteriormente aplicar ajustes como balanceamento e  outras correções"
   ]
  },
  {
   "cell_type": "code",
   "execution_count": 1,
   "id": "0ccec484",
   "metadata": {},
   "outputs": [
    {
     "data": {
      "text/html": [
       "<div>\n",
       "<style scoped>\n",
       "    .dataframe tbody tr th:only-of-type {\n",
       "        vertical-align: middle;\n",
       "    }\n",
       "\n",
       "    .dataframe tbody tr th {\n",
       "        vertical-align: top;\n",
       "    }\n",
       "\n",
       "    .dataframe thead th {\n",
       "        text-align: right;\n",
       "    }\n",
       "</style>\n",
       "<table border=\"1\" class=\"dataframe\">\n",
       "  <thead>\n",
       "    <tr style=\"text-align: right;\">\n",
       "      <th></th>\n",
       "      <th>Código NCM</th>\n",
       "      <th>Descrição</th>\n",
       "    </tr>\n",
       "  </thead>\n",
       "  <tbody>\n",
       "    <tr>\n",
       "      <th>0</th>\n",
       "      <td>21069090</td>\n",
       "      <td>rech forn maracujar kg principio</td>\n",
       "    </tr>\n",
       "    <tr>\n",
       "      <th>1</th>\n",
       "      <td>21069090</td>\n",
       "      <td>rech forn coco cremoso kg principio</td>\n",
       "    </tr>\n",
       "    <tr>\n",
       "      <th>2</th>\n",
       "      <td>08044000</td>\n",
       "      <td>abac</td>\n",
       "    </tr>\n",
       "    <tr>\n",
       "      <th>3</th>\n",
       "      <td>08044000</td>\n",
       "      <td>abac avocado kg</td>\n",
       "    </tr>\n",
       "    <tr>\n",
       "      <th>4</th>\n",
       "      <td>08043000</td>\n",
       "      <td>abacaxi pc</td>\n",
       "    </tr>\n",
       "    <tr>\n",
       "      <th>...</th>\n",
       "      <td>...</td>\n",
       "      <td>...</td>\n",
       "    </tr>\n",
       "    <tr>\n",
       "      <th>499590</th>\n",
       "      <td>96190000</td>\n",
       "      <td>roupa intima plenitud femm g</td>\n",
       "    </tr>\n",
       "    <tr>\n",
       "      <th>499591</th>\n",
       "      <td>96190000</td>\n",
       "      <td>fralda desc geriat plenitud protect plu gxg un</td>\n",
       "    </tr>\n",
       "    <tr>\n",
       "      <th>499592</th>\n",
       "      <td>96190000</td>\n",
       "      <td>fralda desc turma monica babi xxg un</td>\n",
       "    </tr>\n",
       "    <tr>\n",
       "      <th>499593</th>\n",
       "      <td>96190000</td>\n",
       "      <td>fralda descartavel pom pom xg un</td>\n",
       "    </tr>\n",
       "    <tr>\n",
       "      <th>499594</th>\n",
       "      <td>96190000</td>\n",
       "      <td>fralda hyggi tripla prot p un</td>\n",
       "    </tr>\n",
       "  </tbody>\n",
       "</table>\n",
       "<p>499595 rows × 2 columns</p>\n",
       "</div>"
      ],
      "text/plain": [
       "       Código NCM                                       Descrição\n",
       "0        21069090                rech forn maracujar kg principio\n",
       "1        21069090             rech forn coco cremoso kg principio\n",
       "2        08044000                                            abac\n",
       "3        08044000                                 abac avocado kg\n",
       "4        08043000                                      abacaxi pc\n",
       "...           ...                                             ...\n",
       "499590   96190000                    roupa intima plenitud femm g\n",
       "499591   96190000  fralda desc geriat plenitud protect plu gxg un\n",
       "499592   96190000            fralda desc turma monica babi xxg un\n",
       "499593   96190000                fralda descartavel pom pom xg un\n",
       "499594   96190000                   fralda hyggi tripla prot p un\n",
       "\n",
       "[499595 rows x 2 columns]"
      ]
     },
     "execution_count": 1,
     "metadata": {},
     "output_type": "execute_result"
    }
   ],
   "source": [
    "# Buscar dados\n",
    "\n",
    "import os\n",
    "import pandas as pd\n",
    "\n",
    "colunas = ['Código NCM', 'Descrição']\n",
    "df_sintetico = pd.DataFrame(columns=colunas)\n",
    "df_sintetico = pd.read_excel(r'dados_tratados_ncm_e_descricao.xlsx', dtype={'Código NCM': str})\n",
    "\n",
    "#visualizando\n",
    "df_sintetico"
   ]
  },
  {
   "cell_type": "code",
   "execution_count": 2,
   "id": "d56ebd84",
   "metadata": {},
   "outputs": [
    {
     "data": {
      "image/png": "[encoded data removed]",
      "text/plain": [
       "<Figure size 600x400 with 1 Axes>"
      ]
     },
     "metadata": {},
     "output_type": "display_data"
    },
    {
     "name": "stdout",
     "output_type": "stream",
     "text": [
      "Total de Códigos NCM: 2995\n",
      "Total de Capítulos: 92\n",
      "Total de Amostras: 499595\n"
     ]
    }
   ],
   "source": [
    "import matplotlib.pyplot as plt\n",
    "\n",
    "# Calcular o total de códigos NCM por grupo\n",
    "df_groups = df_sintetico['Código NCM'].astype(str).apply(lambda x: x[:2]).groupby(df_sintetico['Código NCM']).count()\n",
    "total_ncm = df_groups.shape[0]  # Total de códigos NCM\n",
    "\n",
    "# Calcular o total de capítulos\n",
    "total_capitulos = df_sintetico['Código NCM'].astype(str).apply(lambda x: x[:2]).nunique()  # Total de capítulos\n",
    "\n",
    "# Calcular o total geral de amostras\n",
    "total_amostras = df_sintetico.shape[0]  # Total geral de amostras\n",
    "\n",
    "# Exibir os resultados em um \"card\"\n",
    "plt.figure(figsize=(6, 4))\n",
    "plt.text(0.5, 0.5, f\"Total de Códigos NCM: {total_ncm}\\nTotal de Capítulos: {total_capitulos}\\nTotal de Amostras: {total_amostras}\",\n",
    "         fontsize=12, ha='center', va='center')\n",
    "plt.axis('off')  # Remover os eixos do gráfico\n",
    "plt.show()\n",
    "\n",
    "# Exibir os valores com print\n",
    "print(f\"Total de Códigos NCM: {total_ncm}\")\n",
    "print(f\"Total de Capítulos: {total_capitulos}\")\n",
    "print(f\"Total de Amostras: {total_amostras}\")\n"
   ]
  },
  {
   "cell_type": "code",
   "execution_count": 3,
   "id": "bc1c8e64",
   "metadata": {},
   "outputs": [],
   "source": [
    "import pandas as pd\n",
    "\n",
    "# Verificar o número máximo de amostras permitidas para o capítulo\n",
    "quantidade_maxima = 500\n",
    "\n",
    "# Contar o número de amostras para cada capítulo\n",
    "#contagem_capitulo = df_sintetico['Código NCM'].value_counts()\n",
    "contagem_capitulo = df_sintetico['Código NCM'].astype(str).groupby(df_sintetico['Código NCM']).count()\n",
    "\n",
    "# Identificar os capítulos que possuem mais de 5000 amostras\n",
    "#capitulos_acima_limite = contagem_capitulo[contagem_capitulo > limite_amostras].index\n",
    "capitulos_loop = contagem_capitulo.index\n",
    "\n",
    "# Criar um novo DataFrame para armazenar os dados filtrados\n",
    "df_filtrado = pd.DataFrame()\n",
    "\n",
    "# Iterar pelos capítulos que ultrapassam o limite de amostras\n",
    "for capitulo in capitulos_loop:\n",
    "    # Selecionar as amostras do capítulo atual\n",
    "    df_capitulo = df_sintetico[df_sintetico['Código NCM'] == capitulo]\n",
    "    \n",
    "    # Verificar se o número de amostras é maior que o limite\n",
    "    if len(df_capitulo) > quantidade_maxima:\n",
    "        # Remover aleatoriamente as amostras extras\n",
    "        df_capitulo_filtrado = df_capitulo.sample(n=quantidade_maxima, random_state=42)\n",
    "    else:\n",
    "        # Manter todas as amostras do capítulo\n",
    "        df_capitulo_filtrado = df_capitulo\n",
    "    \n",
    "    # Adicionar as amostras filtradas ao DataFrame final\n",
    "    \n",
    "    df_filtrado = pd.concat([df_filtrado, df_capitulo_filtrado])\n",
    "\n",
    "# Atualizar o DataFrame original com os dados filtrados\n",
    "\n",
    "df_sintetico = df_filtrado"
   ]
  },
  {
   "cell_type": "code",
   "execution_count": 4,
   "id": "3548dd9e",
   "metadata": {},
   "outputs": [],
   "source": [
    "import pandas as pd\n",
    "\n",
    "# Definir a quantidade mínima de amostras por classe\n",
    "quantidade_minima = 100\n",
    "\n",
    "# Contar o número de amostras para cada classe\n",
    "contagem_ncm = df_sintetico['Código NCM'].value_counts()\n",
    "\n",
    "# Identificar as classes que possuem menos de 100 amostras\n",
    "classes_remover = contagem_ncm[contagem_ncm < quantidade_minima].index\n",
    "\n",
    "# Filtrar as amostras removendo as classes com quantidade insuficiente\n",
    "df_sintetico = df_sintetico[~df_sintetico['Código NCM'].isin(classes_remover)]\n"
   ]
  },
  {
   "cell_type": "code",
   "execution_count": 5,
   "id": "7fd9d67c",
   "metadata": {},
   "outputs": [],
   "source": [
    "#normalização teste aumentando as instancia para 100\n",
    "\n",
    "import pandas as pd\n",
    "from sklearn.utils import resample\n",
    "\n",
    "# Verificar o número máximo de amostras desejado (100)\n",
    "quantidade_desejada = 200\n",
    "\n",
    "# Contar o número de amostras para cada capítulo\n",
    "contagem_capitulo = df_sintetico['Código NCM'].astype(str).groupby(df_sintetico['Código NCM']).count()\n",
    "\n",
    "# Criar um novo DataFrame para armazenar os dados balanceados\n",
    "df_balanceado = pd.DataFrame()\n",
    "\n",
    "# Iterar pelos capítulos\n",
    "for capitulo, quantidade in contagem_capitulo.items():\n",
    "    df_capitulo = df_sintetico[df_sintetico['Código NCM'] == capitulo]\n",
    "    \n",
    "    # Verificar se a quantidade de amostras é menor que o desejado (100)\n",
    "    if quantidade < quantidade_desejada:\n",
    "        # Calcular a quantidade de amostras a serem replicadas\n",
    "        quantidade_replicar = quantidade_desejada - quantidade\n",
    "        \n",
    "        # Aplicar o oversampling replicando as amostras existentes\n",
    "        df_capitulo_oversampled = resample(df_capitulo, replace=True, n_samples=quantidade_replicar, random_state=42)\n",
    "        \n",
    "        # Adicionar as amostras oversampled ao DataFrame balanceado\n",
    "        df_balanceado = pd.concat([df_balanceado, df_capitulo, df_capitulo_oversampled])\n",
    "    else:\n",
    "        # Manter todas as amostras do capítulo\n",
    "        df_balanceado = pd.concat([df_balanceado, df_capitulo])\n",
    "\n",
    "# Atualizar o DataFrame original com os dados balanceados\n",
    "df_sintetico = df_balanceado\n"
   ]
  },
  {
   "cell_type": "code",
   "execution_count": 6,
   "id": "e53e0187",
   "metadata": {},
   "outputs": [
    {
     "data": {
      "text/plain": [
       "Código NCM\n",
       "62046300    200\n",
       "95030070    200\n",
       "34070010    200\n",
       "18062000    200\n",
       "66019110    200\n",
       "           ... \n",
       "33062000    500\n",
       "33069000    500\n",
       "33072010    500\n",
       "23099010    500\n",
       "96190000    500\n",
       "Name: Código NCM, Length: 504, dtype: int64"
      ]
     },
     "execution_count": 6,
     "metadata": {},
     "output_type": "execute_result"
    }
   ],
   "source": [
    "import matplotlib.pyplot as plt\n",
    "\n",
    "#calculate sum of values by group\n",
    "df_groups = df_sintetico['Código NCM'].astype(str).groupby(df_sintetico['Código NCM']).count()\n",
    "df_groups_sorted = df_groups.sort_values()\n",
    "df_groups_sorted\n",
    "#create bar plot by group\n",
    "#df_groups.plot(kind='bar',figsize=(20,3))"
   ]
  },
  {
   "cell_type": "code",
   "execution_count": 7,
   "id": "92073086",
   "metadata": {},
   "outputs": [],
   "source": [
    "df_sintetico.dropna(subset=['Descrição'], inplace=True)"
   ]
  },
  {
   "cell_type": "code",
   "execution_count": 8,
   "id": "596ababa",
   "metadata": {},
   "outputs": [],
   "source": [
    "df_sintetico.to_excel('normalizados_dados_tratados_ncm_e_descricao.xlsx', index=False, header=True)"
   ]
  },
  {
   "cell_type": "code",
   "execution_count": 9,
   "id": "bc7b050b",
   "metadata": {},
   "outputs": [
    {
     "data": {
      "image/png": "[encoded data removed]",
      "text/plain": [
       "<Figure size 600x400 with 1 Axes>"
      ]
     },
     "metadata": {},
     "output_type": "display_data"
    },
    {
     "name": "stdout",
     "output_type": "stream",
     "text": [
      "Total de Códigos NCM: 504\n",
      "Total de Capítulos: 62\n",
      "Total de Amostras: 172866\n"
     ]
    }
   ],
   "source": [
    "import matplotlib.pyplot as plt\n",
    "\n",
    "# Calcular o total de códigos NCM por grupo\n",
    "df_groups = df_sintetico['Código NCM'].astype(str).apply(lambda x: x[:2]).groupby(df_sintetico['Código NCM']).count()\n",
    "total_ncm = df_groups.shape[0]  # Total de códigos NCM\n",
    "\n",
    "# Calcular o total de capítulos\n",
    "total_capitulos = df_sintetico['Código NCM'].astype(str).apply(lambda x: x[:2]).nunique()  # Total de capítulos\n",
    "\n",
    "# Calcular o total geral de amostras\n",
    "total_amostras = df_sintetico.shape[0]  # Total geral de amostras\n",
    "\n",
    "# Exibir os resultados em um \"card\"\n",
    "plt.figure(figsize=(6, 4))\n",
    "plt.text(0.5, 0.5, f\"Total de Códigos NCM: {total_ncm}\\nTotal de Capítulos: {total_capitulos}\\nTotal de Amostras: {total_amostras}\",\n",
    "         fontsize=12, ha='center', va='center')\n",
    "plt.axis('off')  # Remover os eixos do gráfico\n",
    "plt.show()\n",
    "\n",
    "# Exibir os valores com print\n",
    "print(f\"Total de Códigos NCM: {total_ncm}\")\n",
    "print(f\"Total de Capítulos: {total_capitulos}\")\n",
    "print(f\"Total de Amostras: {total_amostras}\")\n"
   ]
  },
  {
   "cell_type": "code",
   "execution_count": null,
   "id": "0c0dfe04",
   "metadata": {},
   "outputs": [],
   "source": []
  }
 ],
 "metadata": {
  "kernelspec": {
   "display_name": "Python 3 (ipykernel)",
   "language": "python",
   "name": "python3"
  },
  "language_info": {
   "codemirror_mode": {
    "name": "ipython",
    "version": 3
   },
   "file_extension": ".py",
   "mimetype": "text/x-python",
   "name": "python",
   "nbconvert_exporter": "python",
   "pygments_lexer": "ipython3",
   "version": "3.11.4"
  }
 },
 "nbformat": 4,
 "nbformat_minor": 5
}
