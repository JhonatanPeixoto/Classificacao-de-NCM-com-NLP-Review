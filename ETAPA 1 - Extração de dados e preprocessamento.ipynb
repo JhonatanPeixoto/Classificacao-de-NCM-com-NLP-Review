{
 "cells": [
  {
   "cell_type": "markdown",
   "id": "8be4ac4e",
   "metadata": {},
   "source": [
    "## Nessa primeira etapa iremos normalizar os dados\n",
    "\n",
    "* Extrair informações da planilha em um unico dataframe\n",
    "* Tratamento de ncm    \n",
    "    * preencher com zeros a esquerda ncm menores de 8\n",
    "    * excluir produtos sem ncm\n",
    "    * excluir ncm vencido ou inválidos (proxima etapa)\n",
    "* Tratamento na descrição \n",
    "    * transformar palavras em caixa alta\n",
    "    * remoção de acentos\n",
    "    * remoção de espaços duplos"
   ]
  },
  {
   "cell_type": "markdown",
   "id": "50663b73",
   "metadata": {},
   "source": [
    "### Extrair informações da planilha em um unico dataframe"
   ]
  },
  {
   "cell_type": "code",
   "execution_count": 1,
   "id": "ad352337",
   "metadata": {},
   "outputs": [],
   "source": [
    "#O módulo 'xlrd' é necessário para ler arquivos do Excel no pandas.\n",
    "#!pip install xlrd\n",
    "#!pip install update nltk"
   ]
  },
  {
   "cell_type": "code",
   "execution_count": 2,
   "id": "0b23390c",
   "metadata": {},
   "outputs": [],
   "source": [
    "#bibliotecas\n",
    "\n",
    "import os\n",
    "import pandas as pd\n",
    "import requests\n",
    "\n",
    "# Importar biblioteca de regex\n",
    "import re\n",
    "\n",
    "# Importar biblioteca nltk para remoção de stop words\n",
    "import nltk\n",
    "from nltk.corpus import stopwords\n",
    "from nltk.tokenize import word_tokenize\n",
    "from nltk.stem import PorterStemmer\n",
    "\n",
    "# Biblioteca para remoção de caracteres especiais\n",
    "from unicodedata import normalize\n",
    "from string import punctuation"
   ]
  },
  {
   "cell_type": "code",
   "execution_count": 3,
   "id": "f300d412",
   "metadata": {},
   "outputs": [
    {
     "data": {
      "text/html": [
       "<div>\n",
       "<style scoped>\n",
       "    .dataframe tbody tr th:only-of-type {\n",
       "        vertical-align: middle;\n",
       "    }\n",
       "\n",
       "    .dataframe tbody tr th {\n",
       "        vertical-align: top;\n",
       "    }\n",
       "\n",
       "    .dataframe thead th {\n",
       "        text-align: right;\n",
       "    }\n",
       "</style>\n",
       "<table border=\"1\" class=\"dataframe\">\n",
       "  <thead>\n",
       "    <tr style=\"text-align: right;\">\n",
       "      <th></th>\n",
       "      <th>Código NCM</th>\n",
       "      <th>Descrição</th>\n",
       "    </tr>\n",
       "  </thead>\n",
       "  <tbody>\n",
       "    <tr>\n",
       "      <th>0</th>\n",
       "      <td>21069090</td>\n",
       "      <td>35   RECH FORN MARACUJAR 1,01KG PRINCIPIO</td>\n",
       "    </tr>\n",
       "    <tr>\n",
       "      <th>1</th>\n",
       "      <td>21069090</td>\n",
       "      <td>35 RECH FORN COCO CREMOSO  1,01KG PRINCIPIO</td>\n",
       "    </tr>\n",
       "    <tr>\n",
       "      <th>2</th>\n",
       "      <td>08044000</td>\n",
       "      <td>ABACATE</td>\n",
       "    </tr>\n",
       "    <tr>\n",
       "      <th>3</th>\n",
       "      <td>08044000</td>\n",
       "      <td>ABACATE AVOCADO KG</td>\n",
       "    </tr>\n",
       "    <tr>\n",
       "      <th>4</th>\n",
       "      <td>08043000</td>\n",
       "      <td>ABACAXI PC</td>\n",
       "    </tr>\n",
       "    <tr>\n",
       "      <th>...</th>\n",
       "      <td>...</td>\n",
       "      <td>...</td>\n",
       "    </tr>\n",
       "    <tr>\n",
       "      <th>541033</th>\n",
       "      <td>NaN</td>\n",
       "      <td>VASO PRETO TRAPLAST N 0</td>\n",
       "    </tr>\n",
       "    <tr>\n",
       "      <th>541034</th>\n",
       "      <td>NaN</td>\n",
       "      <td>VASO PRETO TRAPLAST N 01</td>\n",
       "    </tr>\n",
       "    <tr>\n",
       "      <th>541035</th>\n",
       "      <td>NaN</td>\n",
       "      <td>KIT BRINQ COZINHA CESTINHO 66</td>\n",
       "    </tr>\n",
       "    <tr>\n",
       "      <th>541036</th>\n",
       "      <td>NaN</td>\n",
       "      <td>REFR. VERT. VN50C (TERCEIROS)</td>\n",
       "    </tr>\n",
       "    <tr>\n",
       "      <th>541037</th>\n",
       "      <td>NaN</td>\n",
       "      <td>REFR.VERT.VN44F</td>\n",
       "    </tr>\n",
       "  </tbody>\n",
       "</table>\n",
       "<p>541038 rows × 2 columns</p>\n",
       "</div>"
      ],
      "text/plain": [
       "       Código NCM                                    Descrição\n",
       "0        21069090    35   RECH FORN MARACUJAR 1,01KG PRINCIPIO\n",
       "1        21069090  35 RECH FORN COCO CREMOSO  1,01KG PRINCIPIO\n",
       "2        08044000                                      ABACATE\n",
       "3        08044000                           ABACATE AVOCADO KG\n",
       "4        08043000                                   ABACAXI PC\n",
       "...           ...                                          ...\n",
       "541033        NaN                      VASO PRETO TRAPLAST N 0\n",
       "541034        NaN                     VASO PRETO TRAPLAST N 01\n",
       "541035        NaN                KIT BRINQ COZINHA CESTINHO 66\n",
       "541036        NaN                REFR. VERT. VN50C (TERCEIROS)\n",
       "541037        NaN                              REFR.VERT.VN44F\n",
       "\n",
       "[541038 rows x 2 columns]"
      ]
     },
     "execution_count": 3,
     "metadata": {},
     "output_type": "execute_result"
    }
   ],
   "source": [
    "colunas = ['Código NCM', 'Descrição']\n",
    "df_sintetico = pd.DataFrame(columns=colunas)\n",
    "df_sintetico = pd.read_excel(r'dados iniciais.xlsx', dtype={'Código NCM': str})\n",
    "\n",
    "#visualizando\n",
    "df_sintetico"
   ]
  },
  {
   "cell_type": "code",
   "execution_count": 4,
   "id": "bb4a1e1c",
   "metadata": {},
   "outputs": [
    {
     "data": {
      "image/png": "[encoded data removed]",
      "text/plain": [
       "<Figure size 600x400 with 1 Axes>"
      ]
     },
     "metadata": {},
     "output_type": "display_data"
    },
    {
     "name": "stdout",
     "output_type": "stream",
     "text": [
      "Total de Códigos NCM: 4608\n",
      "Total de Capítulos: 99\n",
      "Total de Amostras: 541038\n"
     ]
    }
   ],
   "source": [
    "import matplotlib.pyplot as plt\n",
    "\n",
    "# Calcular o total de códigos NCM por grupo\n",
    "df_groups = df_sintetico['Código NCM'].astype(str).apply(lambda x: x[:2]).groupby(df_sintetico['Código NCM']).count()\n",
    "total_ncm = df_groups.shape[0]  # Total de códigos NCM\n",
    "\n",
    "# Calcular o total de capítulos\n",
    "total_capitulos = df_sintetico['Código NCM'].astype(str).apply(lambda x: x[:2]).nunique()  # Total de capítulos\n",
    "\n",
    "# Calcular o total geral de amostras\n",
    "total_amostras = df_sintetico.shape[0]  # Total geral de amostras\n",
    "\n",
    "# Exibir os resultados em um \"card\"\n",
    "plt.figure(figsize=(6, 4))\n",
    "plt.text(0.5, 0.5, f\"Total de Códigos NCM: {total_ncm}\\nTotal de Capítulos: {total_capitulos}\\nTotal de Amostras: {total_amostras}\",\n",
    "         fontsize=12, ha='center', va='center')\n",
    "plt.axis('off')  # Remover os eixos do gráfico\n",
    "plt.show()\n",
    "\n",
    "# Exibir os valores com print\n",
    "print(f\"Total de Códigos NCM: {total_ncm}\")\n",
    "print(f\"Total de Capítulos: {total_capitulos}\")\n",
    "print(f\"Total de Amostras: {total_amostras}\")\n"
   ]
  },
  {
   "cell_type": "markdown",
   "id": "0be9ae12",
   "metadata": {},
   "source": [
    "### Tratamento de ncm"
   ]
  },
  {
   "cell_type": "code",
   "execution_count": 5,
   "id": "33e2e3e4",
   "metadata": {},
   "outputs": [],
   "source": [
    "#remoção de todos os NCMs invalidos\n",
    "\n",
    "# Fazer a requisição HTTP para obter o JSON dos NCMs\n",
    "url = 'https://portalunico.siscomex.gov.br/classif/api/publico/nomenclatura/download/json'\n",
    "response = requests.get(url)\n",
    "\n",
    "# Verificar se a requisição foi bem-sucedida (código de status 200)\n",
    "if response.status_code == 200:\n",
    "    # Carregar o JSON em um pandas DataFrame\n",
    "    json_data = response.json()\n",
    "    ncms = []\n",
    "    for nomenclatura in json_data['Nomenclaturas']:\n",
    "        codigo = nomenclatura['Codigo'].replace('.', '')\n",
    "        if len(codigo) == 8:\n",
    "            ncms.append(codigo)\n",
    "    \n",
    "    # Filtrar os NCMs presentes no seu DataFrame df_sintetico\n",
    "    ncms_validos = df_sintetico['Código NCM'].isin(ncms)\n",
    "    df_sintetico = df_sintetico[ncms_validos]    \n",
    "\n",
    "else:\n",
    "    print('Falha ao obter o JSON dos NCMs.')"
   ]
  },
  {
   "cell_type": "code",
   "execution_count": 6,
   "id": "8e765702",
   "metadata": {},
   "outputs": [],
   "source": [
    "#removendo NCM com muitos itens incorretos (analisado pós processamento)\n",
    "\n",
    "df_sintetico = df_sintetico[df_sintetico['Código NCM'] != '41079990']"
   ]
  },
  {
   "cell_type": "code",
   "execution_count": 7,
   "id": "4ad0638e",
   "metadata": {},
   "outputs": [
    {
     "data": {
      "text/html": [
       "<div>\n",
       "<style scoped>\n",
       "    .dataframe tbody tr th:only-of-type {\n",
       "        vertical-align: middle;\n",
       "    }\n",
       "\n",
       "    .dataframe tbody tr th {\n",
       "        vertical-align: top;\n",
       "    }\n",
       "\n",
       "    .dataframe thead th {\n",
       "        text-align: right;\n",
       "    }\n",
       "</style>\n",
       "<table border=\"1\" class=\"dataframe\">\n",
       "  <thead>\n",
       "    <tr style=\"text-align: right;\">\n",
       "      <th></th>\n",
       "      <th>Código NCM</th>\n",
       "      <th>Descrição</th>\n",
       "    </tr>\n",
       "  </thead>\n",
       "  <tbody>\n",
       "    <tr>\n",
       "      <th>0</th>\n",
       "      <td>21069090</td>\n",
       "      <td>35   RECH FORN MARACUJAR 1,01KG PRINCIPIO</td>\n",
       "    </tr>\n",
       "    <tr>\n",
       "      <th>1</th>\n",
       "      <td>21069090</td>\n",
       "      <td>35 RECH FORN COCO CREMOSO  1,01KG PRINCIPIO</td>\n",
       "    </tr>\n",
       "    <tr>\n",
       "      <th>2</th>\n",
       "      <td>08044000</td>\n",
       "      <td>ABACATE</td>\n",
       "    </tr>\n",
       "    <tr>\n",
       "      <th>3</th>\n",
       "      <td>08044000</td>\n",
       "      <td>ABACATE AVOCADO KG</td>\n",
       "    </tr>\n",
       "    <tr>\n",
       "      <th>4</th>\n",
       "      <td>08043000</td>\n",
       "      <td>ABACAXI PC</td>\n",
       "    </tr>\n",
       "    <tr>\n",
       "      <th>...</th>\n",
       "      <td>...</td>\n",
       "      <td>...</td>\n",
       "    </tr>\n",
       "    <tr>\n",
       "      <th>540850</th>\n",
       "      <td>96190000</td>\n",
       "      <td>ROUPA INTIMA PLENITUDE FEMME G</td>\n",
       "    </tr>\n",
       "    <tr>\n",
       "      <th>540851</th>\n",
       "      <td>96190000</td>\n",
       "      <td>FRALDA DESC GERIAT PLENITUDE PROTECT PLUS G/XG...</td>\n",
       "    </tr>\n",
       "    <tr>\n",
       "      <th>540852</th>\n",
       "      <td>96190000</td>\n",
       "      <td>FRALDA DESC TURMA DA MONICA BABY XXG 36UN</td>\n",
       "    </tr>\n",
       "    <tr>\n",
       "      <th>540853</th>\n",
       "      <td>96190000</td>\n",
       "      <td>FRALDA DESCARTAVEL POM POM XG 20UN</td>\n",
       "    </tr>\n",
       "    <tr>\n",
       "      <th>540854</th>\n",
       "      <td>96190000</td>\n",
       "      <td>FRALDA HYGGIES TRIPLA PROT P 18UN</td>\n",
       "    </tr>\n",
       "  </tbody>\n",
       "</table>\n",
       "<p>499595 rows × 2 columns</p>\n",
       "</div>"
      ],
      "text/plain": [
       "       Código NCM                                          Descrição\n",
       "0        21069090          35   RECH FORN MARACUJAR 1,01KG PRINCIPIO\n",
       "1        21069090        35 RECH FORN COCO CREMOSO  1,01KG PRINCIPIO\n",
       "2        08044000                                            ABACATE\n",
       "3        08044000                                 ABACATE AVOCADO KG\n",
       "4        08043000                                         ABACAXI PC\n",
       "...           ...                                                ...\n",
       "540850   96190000                     ROUPA INTIMA PLENITUDE FEMME G\n",
       "540851   96190000  FRALDA DESC GERIAT PLENITUDE PROTECT PLUS G/XG...\n",
       "540852   96190000          FRALDA DESC TURMA DA MONICA BABY XXG 36UN\n",
       "540853   96190000                 FRALDA DESCARTAVEL POM POM XG 20UN\n",
       "540854   96190000                  FRALDA HYGGIES TRIPLA PROT P 18UN\n",
       "\n",
       "[499595 rows x 2 columns]"
      ]
     },
     "execution_count": 7,
     "metadata": {},
     "output_type": "execute_result"
    }
   ],
   "source": [
    "df_sintetico.shape\n",
    "df_sintetico"
   ]
  },
  {
   "cell_type": "markdown",
   "id": "229cf479",
   "metadata": {},
   "source": [
    "### Tratamento de descricao"
   ]
  },
  {
   "cell_type": "code",
   "execution_count": 8,
   "id": "721c8bd9",
   "metadata": {},
   "outputs": [
    {
     "name": "stderr",
     "output_type": "stream",
     "text": [
      "[nltk_data] Downloading package stopwords to\n",
      "[nltk_data]     C:\\Users\\SAAM\\AppData\\Roaming\\nltk_data...\n",
      "[nltk_data]   Package stopwords is already up-to-date!\n",
      "[nltk_data] Downloading package punkt to\n",
      "[nltk_data]     C:\\Users\\SAAM\\AppData\\Roaming\\nltk_data...\n",
      "[nltk_data]   Package punkt is already up-to-date!\n"
     ]
    }
   ],
   "source": [
    "#faz o download de recursos necessários para a tokenização de texto\n",
    "nltk.download('stopwords')\n",
    "nltk.download('punkt')\n",
    "stop_words = stopwords.words('portuguese')"
   ]
  },
  {
   "cell_type": "code",
   "execution_count": 9,
   "id": "63716e97",
   "metadata": {},
   "outputs": [],
   "source": [
    "def remover_sw(texto):\n",
    "    sentenca_limpa = ''\n",
    "    \n",
    "    #tokerizando\n",
    "    tokens = word_tokenize(texto)  \n",
    "    \n",
    "    #não estou fazendo stemming nesse momento\n",
    "    # Fazendo stemming em cada token\n",
    "    stemmer = PorterStemmer()\n",
    "    stems = [stemmer.stem(token) for token in tokens]\n",
    "    \n",
    "    #juntando palavras novamente ??\n",
    "    sentenca_limpa = [w for w in stems if not w.lower() in stop_words]\n",
    "    return ' '.join(sentenca_limpa)\n",
    "\n",
    "\n",
    "def limpar_texto(texto):\n",
    "    # Tratando caracteres especiais\n",
    "    texto = normalize('NFKD', texto). encode('ASCII', 'ignore').decode('ASCII')\n",
    "    # Removendo pontuações\n",
    "    texto = re.sub(f'[{punctuation}]', '', texto)\n",
    "    # Removendo número\n",
    "    texto = re.sub('[0-9]', '', texto)\n",
    "    # Colocar em caixa baixa\n",
    "    texto = texto.lower()\n",
    "    # Removendo stop words\n",
    "    texto = remover_sw(texto)\n",
    "\n",
    "    return texto"
   ]
  },
  {
   "cell_type": "code",
   "execution_count": 10,
   "id": "5d6e1b2a",
   "metadata": {},
   "outputs": [],
   "source": [
    "#limpeza caracteres especiais, pontuação, lower e remoção de stop words e descrições vazias\n",
    "#%%time\n",
    "df_sintetico.loc[:, 'Descrição'] = df_sintetico['Descrição'].fillna('').map(limpar_texto)\n",
    "df_sintetico.dropna(subset=['Descrição'], inplace=True)\n"
   ]
  },
  {
   "cell_type": "code",
   "execution_count": 11,
   "id": "d17f0eb3",
   "metadata": {},
   "outputs": [],
   "source": [
    "#remoção de produtos duplicados\n",
    "#df_sintetico = df_sintetico.drop_duplicates()"
   ]
  },
  {
   "cell_type": "markdown",
   "id": "3f39c4c0",
   "metadata": {},
   "source": [
    "### Exportando dados"
   ]
  },
  {
   "cell_type": "code",
   "execution_count": 12,
   "id": "106efe53",
   "metadata": {},
   "outputs": [],
   "source": [
    "# exportar planilha para facilitar na hora da analise\n",
    "df_sintetico.to_excel('dados_tratados_ncm_e_descricao.xlsx', index=False, header=True)\n",
    "\n",
    "#df_sintetico[['Código NCM', 'Descrição']].to_csv('dados_tratados_ncm_e_descricao.csv', index=False)"
   ]
  },
  {
   "cell_type": "code",
   "execution_count": null,
   "id": "925a539f",
   "metadata": {},
   "outputs": [],
   "source": []
  },
  {
   "cell_type": "code",
   "execution_count": null,
   "id": "311e013a",
   "metadata": {},
   "outputs": [],
   "source": []
  }
 ],
 "metadata": {
  "kernelspec": {
   "display_name": "Python 3 (ipykernel)",
   "language": "python",
   "name": "python3"
  },
  "language_info": {
   "codemirror_mode": {
    "name": "ipython",
    "version": 3
   },
   "file_extension": ".py",
   "mimetype": "text/x-python",
   "name": "python",
   "nbconvert_exporter": "python",
   "pygments_lexer": "ipython3",
   "version": "3.11.4"
  }
 },
 "nbformat": 4,
 "nbformat_minor": 5
}
